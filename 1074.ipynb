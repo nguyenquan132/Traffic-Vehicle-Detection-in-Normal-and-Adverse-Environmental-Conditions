{
 "cells": [
  {
   "cell_type": "code",
   "execution_count": 1,
   "id": "5f2fb7c4",
   "metadata": {
    "_cell_guid": "b1076dfc-b9ad-4769-8c92-a6c4dae69d19",
    "_uuid": "8f2839f25d086af736a60e9eeb907d3b93b6e0e5",
    "execution": {
     "iopub.execute_input": "2024-11-11T19:35:42.549381Z",
     "iopub.status.busy": "2024-11-11T19:35:42.548912Z",
     "iopub.status.idle": "2024-11-11T19:35:43.770040Z",
     "shell.execute_reply": "2024-11-11T19:35:43.768644Z"
    },
    "papermill": {
     "duration": 1.22873,
     "end_time": "2024-11-11T19:35:43.773058",
     "exception": false,
     "start_time": "2024-11-11T19:35:42.544328",
     "status": "completed"
    },
    "tags": []
   },
   "outputs": [],
   "source": [
    "# This Python 3 environment comes with many helpful analytics libraries installed\n",
    "# It is defined by the kaggle/python Docker image: https://github.com/kaggle/docker-python\n",
    "# For example, here's several helpful packages to load\n",
    "\n",
    "import numpy as np # linear algebra\n",
    "import pandas as pd # data processing, CSV file I/O (e.g. pd.read_csv)\n",
    "\n",
    "# Input data files are available in the read-only \"../input/\" directory\n",
    "# For example, running this (by clicking run or pressing Shift+Enter) will list all files under the input directory\n",
    "\n",
    "import os\n",
    "for dirname, _, filenames in os.walk('/kaggle/input'):\n",
    "    for filename in filenames:\n",
    "        print(os.path.join(dirname, filename))\n",
    "\n",
    "# You can write up to 20GB to the current directory (/kaggle/working/) that gets preserved as output when you create a version using \"Save & Run All\" \n",
    "# You can also write temporary files to /kaggle/temp/, but they won't be saved outside of the current session"
   ]
  },
  {
   "cell_type": "code",
   "execution_count": 2,
   "id": "c371227a",
   "metadata": {
    "execution": {
     "iopub.execute_input": "2024-11-11T19:35:43.779690Z",
     "iopub.status.busy": "2024-11-11T19:35:43.779070Z",
     "iopub.status.idle": "2024-11-11T19:35:45.851479Z",
     "shell.execute_reply": "2024-11-11T19:35:45.850032Z"
    },
    "papermill": {
     "duration": 2.07904,
     "end_time": "2024-11-11T19:35:45.854465",
     "exception": false,
     "start_time": "2024-11-11T19:35:43.775425",
     "status": "completed"
    },
    "tags": []
   },
   "outputs": [
    {
     "name": "stdout",
     "output_type": "stream",
     "text": [
      "Cloning into 'Traffic-Vehicle-Detection-in-Normal-and-Adverse-Environmental-Conditions'...\r\n",
      "remote: Enumerating objects: 146, done.\u001b[K\r\n",
      "remote: Counting objects: 100% (146/146), done.\u001b[K\r\n",
      "remote: Compressing objects: 100% (103/103), done.\u001b[K\r\n",
      "remote: Total 146 (delta 57), reused 123 (delta 36), pack-reused 0 (from 0)\u001b[K\r\n",
      "Receiving objects: 100% (146/146), 32.65 KiB | 8.16 MiB/s, done.\r\n",
      "Resolving deltas: 100% (57/57), done.\r\n"
     ]
    }
   ],
   "source": [
    "!git clone https://github.com/nguyenquan132/Traffic-Vehicle-Detection-in-Normal-and-Adverse-Environmental-Conditions.git"
   ]
  }
 ],
 "metadata": {
  "kaggle": {
   "accelerator": "none",
   "dataSources": [],
   "dockerImageVersionId": 30786,
   "isGpuEnabled": false,
   "isInternetEnabled": true,
   "language": "python",
   "sourceType": "notebook"
  },
  "kernelspec": {
   "display_name": "Python 3",
   "language": "python",
   "name": "python3"
  },
  "language_info": {
   "codemirror_mode": {
    "name": "ipython",
    "version": 3
   },
   "file_extension": ".py",
   "mimetype": "text/x-python",
   "name": "python",
   "nbconvert_exporter": "python",
   "pygments_lexer": "ipython3",
   "version": "3.10.14"
  },
  "papermill": {
   "default_parameters": {},
   "duration": 7.459895,
   "end_time": "2024-11-11T19:35:46.479969",
   "environment_variables": {},
   "exception": null,
   "input_path": "__notebook__.ipynb",
   "output_path": "__notebook__.ipynb",
   "parameters": {},
   "start_time": "2024-11-11T19:35:39.020074",
   "version": "2.6.0"
  }
 },
 "nbformat": 4,
 "nbformat_minor": 5
}
